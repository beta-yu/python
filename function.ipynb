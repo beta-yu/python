{
 "metadata": {
  "language_info": {
   "codemirror_mode": {
    "name": "ipython",
    "version": 3
   },
   "file_extension": ".py",
   "mimetype": "text/x-python",
   "name": "python",
   "nbconvert_exporter": "python",
   "pygments_lexer": "ipython3",
   "version": "3.9.4"
  },
  "orig_nbformat": 2,
  "kernelspec": {
   "name": "python394jvsc74a57bd0b0fa6594d8f4cbf19f97940f81e996739fb7646882a419484c72d19e05852a7e",
   "display_name": "Python 3.9.4 64-bit"
  },
  "metadata": {
   "interpreter": {
    "hash": "b0fa6594d8f4cbf19f97940f81e996739fb7646882a419484c72d19e05852a7e"
   }
  }
 },
 "nbformat": 4,
 "nbformat_minor": 2,
 "cells": [
  {
   "source": [
    "# 默认值"
   ],
   "cell_type": "markdown",
   "metadata": {}
  },
  {
   "cell_type": "code",
   "execution_count": 2,
   "metadata": {},
   "outputs": [
    {
     "output_type": "stream",
     "name": "stdout",
     "text": [
      "\nI have a dog.\nMy dog's name is willie.\n"
     ]
    }
   ],
   "source": [
    "def describe_pet(pet_name, animal_type='dog'): # 默认值 形参列表必须先列出没有默认值的形参，再列出有默认值的形参\n",
    "    print(\"\\nI have a \" + animal_type + \".\")\n",
    "    print(\"My \" + animal_type + \"'s name is \" + pet_name + \".\")\n",
    "\n",
    "describe_pet(pet_name='willie')"
   ]
  },
  {
   "source": [
    "给定默认值时，`=`两侧不应该有空格。对于函数调用中的关键字实参，也应该遵循这种约定。"
   ],
   "cell_type": "markdown",
   "metadata": {}
  },
  {
   "source": [
    "# 传递任意数量的实参"
   ],
   "cell_type": "markdown",
   "metadata": {}
  },
  {
   "cell_type": "code",
   "execution_count": 3,
   "metadata": {},
   "outputs": [
    {
     "output_type": "stream",
     "name": "stdout",
     "text": [
      "(1,)\n(1, 2, 3)\n"
     ]
    }
   ],
   "source": [
    "def func(*parms): # *表示需要创建一个名为parms的空元组，并将传入的所有参数都封装到这个元组中\n",
    "    print(parms)\n",
    "\n",
    "func(1)\n",
    "func(1, 2, 3)"
   ]
  },
  {
   "source": [
    "> 如果要让函数接收不同类型的实参，必须在函数定义中将接纳任意数量实参的形参放在最后。Python先匹配位置实参和关键字实参，再将剩余的实参都收集到最后一个形参中。"
   ],
   "cell_type": "markdown",
   "metadata": {}
  },
  {
   "cell_type": "code",
   "execution_count": 5,
   "metadata": {},
   "outputs": [
    {
     "output_type": "stream",
     "name": "stdout",
     "text": [
      "hello zhangsan.\nhello lisi.\nhello wangwu.\n"
     ]
    }
   ],
   "source": [
    "def greeting(greet, *persons):\n",
    "    for person in persons:\n",
    "        print(greet + \" \"+ person + \".\")\n",
    "greeting(\"hello\", \"zhangsan\", \"lisi\", \"wangwu\")"
   ]
  },
  {
   "source": [
    "## 使用任意数量的关键字实参\n",
    "有时需要接收任意数量的实参，但事先并不知道传递给函数的会是什么样的信息。在这种情况下可将函数编写成能够接收任意数量的键值对，调用时提供了多少就能接收多少。"
   ],
   "cell_type": "markdown",
   "metadata": {}
  },
  {
   "cell_type": "code",
   "execution_count": 6,
   "metadata": {},
   "outputs": [
    {
     "output_type": "stream",
     "name": "stdout",
     "text": [
      "{'first_name': 'albert', 'last_name': 'einstein', 'location': 'beijing', 'field': 'physics'}\n"
     ]
    }
   ],
   "source": [
    "def build_profile(first, last, **user_info): # **表示需要创建一个名为user_info的空字典，并将传入的所有键值对都封装进去\n",
    "    profile = {}\n",
    "    profile['first_name'] = first\n",
    "    profile['last_name'] = last\n",
    "    for key, value in user_info.items():\n",
    "        profile[key] = value\n",
    "    return profile\n",
    "user_profile = build_profile('albert', 'einstein', location='beijing', field='physics')\n",
    "print(user_profile)"
   ]
  },
  {
   "source": [
    "# 将函数存储在模块中\n",
    "## 导入整个模块\n",
    "模块是扩展名为`.py`的文件，包含要导入程序中的代码\n",
    "1.创建模块\n",
    "2.导入模块\n",
    "3.使用 `module_name.function_name()`"
   ],
   "cell_type": "markdown",
   "metadata": {}
  },
  {
   "cell_type": "code",
   "execution_count": 7,
   "metadata": {},
   "outputs": [
    {
     "output_type": "stream",
     "name": "stdout",
     "text": [
      "\nMaking a 16-inch pizza with the following toppings:\n- pepperoni\n"
     ]
    }
   ],
   "source": [
    "import pizza \n",
    "\n",
    "pizza.make_pizza(16, 'pepperoni')"
   ]
  },
  {
   "source": [
    "## 导入模块中特定的函数\n",
    "`from module_name import function_name`\n",
    "\n",
    "可导入任意数量的函数：\n",
    "\n",
    "`from module_name import function_name1, function_name2, function_name`\n",
    "\n",
    "因为已经显式的导入了函数，在使用时只需指定函数名称即可，不需要模块名称"
   ],
   "cell_type": "markdown",
   "metadata": {}
  },
  {
   "cell_type": "code",
   "execution_count": 8,
   "metadata": {},
   "outputs": [
    {
     "output_type": "stream",
     "name": "stdout",
     "text": [
      "\nMaking a 16-inch pizza with the following toppings:\n- pepperoni\n"
     ]
    }
   ],
   "source": [
    "from pizza import make_pizza\n",
    "\n",
    "make_pizza(16, 'pepperoni')"
   ]
  },
  {
   "source": [
    "## 使用`as`给函数指定别名"
   ],
   "cell_type": "markdown",
   "metadata": {}
  },
  {
   "cell_type": "code",
   "execution_count": 9,
   "metadata": {},
   "outputs": [
    {
     "output_type": "stream",
     "name": "stdout",
     "text": [
      "\nMaking a 16-inch pizza with the following toppings:\n- pepperoni\n"
     ]
    }
   ],
   "source": [
    "from pizza import make_pizza as mp\n",
    "\n",
    "mp(16, 'pepperoni')"
   ]
  },
  {
   "source": [
    "## 使用as给模块指定别名"
   ],
   "cell_type": "markdown",
   "metadata": {}
  },
  {
   "cell_type": "code",
   "execution_count": 10,
   "metadata": {},
   "outputs": [
    {
     "output_type": "stream",
     "name": "stdout",
     "text": [
      "\nMaking a 16-inch pizza with the following toppings:\n- pepperoni\n"
     ]
    }
   ],
   "source": [
    "import pizza as p\n",
    "\n",
    "p.make_pizza(16, 'pepperoni')"
   ]
  },
  {
   "source": [
    "## 导入模块中的所有函数"
   ],
   "cell_type": "markdown",
   "metadata": {}
  },
  {
   "cell_type": "code",
   "execution_count": null,
   "metadata": {},
   "outputs": [],
   "source": [
    "from pizza import *\n",
    "\n",
    "make_pizza(16, 'pepperoni')"
   ]
  },
  {
   "source": [
    "`import`语句中的`*`让Python将模块`pizza`中的所有函数都复制到了这个程序文件中。由于导入了每个函数，可通过名称来调用每个函数，而无需使用句点表示法。然而，使用非自己编写的大型模块时，最好不要采用这种导入方法：因为可能存在命名相同的函数，进而导致覆盖。"
   ],
   "cell_type": "markdown",
   "metadata": {}
  }
 ]
}