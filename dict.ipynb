{
 "metadata": {
  "language_info": {
   "codemirror_mode": {
    "name": "ipython",
    "version": 3
   },
   "file_extension": ".py",
   "mimetype": "text/x-python",
   "name": "python",
   "nbconvert_exporter": "python",
   "pygments_lexer": "ipython3",
   "version": "3.9.4"
  },
  "orig_nbformat": 2,
  "kernelspec": {
   "name": "python394jvsc74a57bd0b0fa6594d8f4cbf19f97940f81e996739fb7646882a419484c72d19e05852a7e",
   "display_name": "Python 3.9.4 64-bit"
  },
  "metadata": {
   "interpreter": {
    "hash": "b0fa6594d8f4cbf19f97940f81e996739fb7646882a419484c72d19e05852a7e"
   }
  }
 },
 "nbformat": 4,
 "nbformat_minor": 2,
 "cells": [
  {
   "cell_type": "code",
   "execution_count": 9,
   "metadata": {},
   "outputs": [
    {
     "output_type": "stream",
     "name": "stdout",
     "text": [
      "{'one': 1, 'two': 2}\n{'two': 2}\n{'one': '1', 'two': 2, 3: 'three'}\n"
     ]
    }
   ],
   "source": [
    "dict = {'one' : 1, 'two' : 2}\n",
    "print(dict)\n",
    "del dict['one'] # 删除\n",
    "print(dict)\n",
    "\n",
    "dict2 = {'one' : '1', 'two' : 2, 3 : 'three'} # 对key,value类型无限制\n",
    "print(dict2)"
   ]
  },
  {
   "source": [
    "## 遍历字典"
   ],
   "cell_type": "markdown",
   "metadata": {}
  },
  {
   "cell_type": "code",
   "execution_count": 7,
   "metadata": {},
   "outputs": [
    {
     "output_type": "stream",
     "name": "stdout",
     "text": [
      "\nKey: one\nValue: 1\n\nKey: two\nValue: 2\nOne\nTwo\nOne\nTwo\n1\n2\n"
     ]
    }
   ],
   "source": [
    "dict = {'one' : 1, 'two' : 2}\n",
    "for key, value in dict.items(): # items()返回一个Key-Value列表\n",
    "    print(\"\\nKey: \" + key)\n",
    "    print(\"Value: \" + str(value))\n",
    "\n",
    "for key in dict.keys(): # keys\n",
    "    print(key.title())\n",
    "\n",
    "for key in dict: # 直接遍历字典时会默认遍历所有的Key\n",
    "    print(key.title())\n",
    "\n",
    "for value in set(dict.values()): # 可使用set对values去重\n",
    "    print(value)"
   ]
  },
  {
   "cell_type": "code",
   "execution_count": null,
   "metadata": {},
   "outputs": [],
   "source": []
  }
 ]
}