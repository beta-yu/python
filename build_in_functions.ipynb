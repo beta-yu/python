{
 "metadata": {
  "language_info": {
   "codemirror_mode": {
    "name": "ipython",
    "version": 3
   },
   "file_extension": ".py",
   "mimetype": "text/x-python",
   "name": "python",
   "nbconvert_exporter": "python",
   "pygments_lexer": "ipython3",
   "version": "3.9.4"
  },
  "orig_nbformat": 2,
  "kernelspec": {
   "name": "python394jvsc74a57bd0b0fa6594d8f4cbf19f97940f81e996739fb7646882a419484c72d19e05852a7e",
   "display_name": "Python 3.9.4 64-bit"
  },
  "metadata": {
   "interpreter": {
    "hash": "b0fa6594d8f4cbf19f97940f81e996739fb7646882a419484c72d19e05852a7e"
   }
  }
 },
 "nbformat": 4,
 "nbformat_minor": 2,
 "cells": [
  {
   "source": [
    "## `all(iterable)`\n",
    "如果 `iterable` 的所有元素均为真值（或可迭代对象为空）则返回 `True`:"
   ],
   "cell_type": "markdown",
   "metadata": {}
  },
  {
   "cell_type": "code",
   "execution_count": 2,
   "metadata": {},
   "outputs": [
    {
     "output_type": "stream",
     "name": "stdout",
     "text": [
      "False\nTrue\n"
     ]
    }
   ],
   "source": [
    "l = [1, 2, None, 3]\n",
    "print(all(l))\n",
    "l = [1]\n",
    "print(all(l))"
   ]
  },
  {
   "source": [
    "## `any(iterable)`\n",
    "如果 `iterable` 的任一元素为真值则返回 `True`。 如果可迭代对象为空，返回 `False`。"
   ],
   "cell_type": "markdown",
   "metadata": {}
  },
  {
   "cell_type": "code",
   "execution_count": 5,
   "metadata": {},
   "outputs": [
    {
     "output_type": "stream",
     "name": "stdout",
     "text": [
      "True\nFalse\n"
     ]
    }
   ],
   "source": [
    "l = [1, 2, None, 3]\n",
    "print(any(l))\n",
    "l = []\n",
    "print(any(l))"
   ]
  },
  {
   "source": [
    "## `bin(x)`\n",
    "将一个整数转变为一个前缀为“0b”的二进制字符串。结果是一个合法的 Python 表达式。如果 `x` 不是 Python 的 `int` 对象，那它需要定义 `__index__()` 方法返回一个整数。"
   ],
   "cell_type": "markdown",
   "metadata": {}
  },
  {
   "cell_type": "code",
   "execution_count": 7,
   "metadata": {},
   "outputs": [
    {
     "output_type": "stream",
     "name": "stdout",
     "text": [
      "0b11\n-0b101\n"
     ]
    }
   ],
   "source": [
    "print(bin(3))\n",
    "print(bin(-5)) # 返回值为字符串类型"
   ]
  },
  {
   "source": [
    "## `chr(i)`\n",
    "返回 Unicode 码位为整数 i 的字符的字符串格式。例如，chr(97) 返回字符串 'a'，chr(8364) 返回字符串 '€'。这是 ord() 的逆函数。\n",
    "\n",
    "实参的合法范围是 0 到 1,114,111（16 进制表示是 0x10FFFF）。如果 i 超过这个范围，会触发 ValueError 异常。"
   ],
   "cell_type": "markdown",
   "metadata": {}
  },
  {
   "cell_type": "code",
   "execution_count": 11,
   "metadata": {},
   "outputs": [
    {
     "output_type": "stream",
     "name": "stdout",
     "text": [
      "97\n"
     ]
    }
   ],
   "source": [
    "print(ord(chr(97)))"
   ]
  },
  {
   "source": [
    "## `divmod(a, b)`\n",
    "它将两个（非复数）数字作为实参，并在执行整数除法时返回一对商和余数。对于混合操作数类型，适用双目算术运算符的规则。对于整数，结果和 `(a // b, a % b)` 一致。对于浮点数，结果是 `(q, a % b)` ，`q` 通常是 `math.floor(a / b)` 但可能会比 1 小。在任何情况下， `q * b + a % b` 和 `a` 基本相等；如果 `a % b` 非零，它的符号和 `b` 一样，并且 `0 <= abs(a % b) < abs(b)` 。"
   ],
   "cell_type": "markdown",
   "metadata": {}
  },
  {
   "cell_type": "code",
   "execution_count": 14,
   "metadata": {},
   "outputs": [
    {
     "output_type": "stream",
     "name": "stdout",
     "text": [
      "(1, 2)\n(1.0, 2.5)\n(-2.0, 0.5)\n"
     ]
    }
   ],
   "source": [
    "print(divmod(5, 3))\n",
    "print(divmod(5.5, 3))\n",
    "print(divmod(-5.5, 3))"
   ]
  },
  {
   "source": [
    "## `enumerate(iterable, start=0)`\n",
    "返回一个枚举对象。iterable 必须是一个序列，或 iterator，或其他支持迭代的对象。 enumerate() 返回的迭代器的 __next__() 方法返回一个元组，里面包含一个计数值（从 start 开始，默认为 0）和通过迭代 iterable 获得的值。"
   ],
   "cell_type": "markdown",
   "metadata": {}
  },
  {
   "cell_type": "code",
   "execution_count": 20,
   "metadata": {},
   "outputs": [
    {
     "output_type": "stream",
     "name": "stdout",
     "text": [
      "0 Spring\n1 Summer\n2 Fall\n3 Winter\n\n\n1 Spring\n2 Summer\n3 Fall\n4 Winter\n"
     ]
    }
   ],
   "source": [
    "seasons = ['Spring', 'Summer', 'Fall', 'Winter']\n",
    "for idx, val in enumerate(seasons):\n",
    "    print(idx, val)\n",
    "print('\\n')\n",
    "for idx, val in enumerate(seasons, start=1): # start=1并不是绕过第一个元素\n",
    "    print(idx, val)"
   ]
  },
  {
   "source": [
    "## `filter(function, iterable)`\n",
    "用 iterable 中函数 function 返回真的那些元素，构建一个新的迭代器。"
   ],
   "cell_type": "markdown",
   "metadata": {}
  },
  {
   "cell_type": "code",
   "execution_count": 1,
   "metadata": {},
   "outputs": [
    {
     "output_type": "stream",
     "name": "stdout",
     "text": [
      "[2]\n"
     ]
    }
   ],
   "source": [
    "l = [1, 2, 3]\n",
    "\n",
    "def f(x):\n",
    "    return x % 2 == 0\n",
    "\n",
    "print(list(filter(f, l)))"
   ]
  },
  {
   "source": [
    "## `str.format()`\n",
    "基本语法是通过 `{}` 和 `:` 来代替以前的 `%` 。"
   ],
   "cell_type": "markdown",
   "metadata": {}
  },
  {
   "cell_type": "code",
   "execution_count": 19,
   "metadata": {},
   "outputs": [
    {
     "output_type": "stream",
     "name": "stdout",
     "text": [
      "hello world\nhello world\nworld hello\nname: runoob \nurl: www.runoob.com\nname: runoob \nurl: www.runoob.com\nname: runoob \nurl: www.runoob.com\nvalue = 6\n"
     ]
    }
   ],
   "source": [
    "s1 = \"{} {}\".format('hello', 'world')\n",
    "print(s1)\n",
    "s2 = \"{0} {1}\".format('hello', 'world')\n",
    "print(s2)\n",
    "s3 = \"{1} {0}\".format('hello', 'world')\n",
    "print(s3)\n",
    "\n",
    "s4 = \"name: {name} \\nurl: {url}\".format(name='runoob', url='www.runoob.com') # 设置参数\n",
    "print(s4)\n",
    "\n",
    "site = {'name' : 'runoob', 'url' : 'www.runoob.com'}\n",
    "s5 = \"name: {name} \\nurl: {url}\".format(**site) # 通过字典设置参数\n",
    "print(s5)\n",
    "\n",
    "l = ['runoob', 'www.runoob.com']\n",
    "s6 = \"name: {0[0]} \\nurl: {0[1]}\".format(l) # 通过列表索引设置参数, \"0\" 是必须的\n",
    "print(s6)\n",
    "\n",
    "class AssignValue(object):\n",
    "    def __init__(self, value):\n",
    "        self.value = value\n",
    "val = AssignValue(6)\n",
    "s7 = \"value = {0.value}\".format(val) # 传入对象, \"0\"是可选的\n",
    "print(s7)"
   ]
  },
  {
   "cell_type": "code",
   "execution_count": 26,
   "metadata": {},
   "outputs": [
    {
     "output_type": "stream",
     "name": "stdout",
     "text": [
      "3.14\n10,000,000\n25.00%\n1011, 11, 13, b, 0xb, 0XB\n"
     ]
    }
   ],
   "source": [
    "# 数字格式化\n",
    "print(\"{:.2f}\".format(3.1415926))\n",
    "print(\"{:,}\".format(10000000))\n",
    "print(\"{:.2%}\".format(0.25))\n",
    "\n",
    "# 进制\n",
    "s = '{:b}'.format(11)\n",
    "s += ', ' + '{:d}'.format(11)\n",
    "s += ', ' + '{:o}'.format(11)\n",
    "s += ', ' + '{:x}'.format(11)\n",
    "s += ', ' + '{:#x}'.format(11)\n",
    "s += ', ' + '{:#X}'.format(11)\n",
    "print(s)"
   ]
  },
  {
   "source": [
    "# 用大括号来转义大括号\n",
    "print(\"{} {{0}}\".format('test'))"
   ],
   "cell_type": "code",
   "metadata": {},
   "execution_count": 29,
   "outputs": [
    {
     "output_type": "stream",
     "name": "stdout",
     "text": [
      "test {0}\n"
     ]
    }
   ]
  },
  {
   "cell_type": "code",
   "execution_count": null,
   "metadata": {},
   "outputs": [],
   "source": []
  }
 ]
}