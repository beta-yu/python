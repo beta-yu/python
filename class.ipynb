{
 "metadata": {
  "language_info": {
   "codemirror_mode": {
    "name": "ipython",
    "version": 3
   },
   "file_extension": ".py",
   "mimetype": "text/x-python",
   "name": "python",
   "nbconvert_exporter": "python",
   "pygments_lexer": "ipython3",
   "version": "3.9.4"
  },
  "orig_nbformat": 2,
  "kernelspec": {
   "name": "python394jvsc74a57bd0b0fa6594d8f4cbf19f97940f81e996739fb7646882a419484c72d19e05852a7e",
   "display_name": "Python 3.9.4 64-bit"
  },
  "metadata": {
   "interpreter": {
    "hash": "b0fa6594d8f4cbf19f97940f81e996739fb7646882a419484c72d19e05852a7e"
   }
  }
 },
 "nbformat": 4,
 "nbformat_minor": 2,
 "cells": [
  {
   "cell_type": "code",
   "execution_count": 2,
   "metadata": {},
   "outputs": [
    {
     "output_type": "stream",
     "name": "stdout",
     "text": [
      "Willie is 6 years old.\n"
     ]
    }
   ],
   "source": [
    "class Dog(): # 类名首字母大写 注意有()\n",
    "\n",
    "    def __init__(self, name, age): # 类方法中self参数会自动传递，使用时不需要关心\n",
    "        self.name = name\n",
    "        self.age = age  # 定义并初始化了name和age属性\n",
    "    # __init__方法不显式包含return语句，但会返回一个实例\n",
    "\n",
    "    def sit(self):\n",
    "        print(self.name.title() + \" is now sitting.\")\n",
    "\n",
    "    def roll_over(self):\n",
    "        print(self.name.title() + \" rolled over!\")\n",
    "\n",
    "my_dog = Dog('willie', 6)\n",
    "print(my_dog.name.title() + \" is \" + str(my_dog.age) + \" years old.\")"
   ]
  },
  {
   "cell_type": "code",
   "execution_count": 4,
   "metadata": {},
   "outputs": [
    {
     "output_type": "stream",
     "name": "stdout",
     "text": [
      "2016 Audi A4\nThis car has 0 miles on it.\n"
     ]
    }
   ],
   "source": [
    "class Car():\n",
    "\n",
    "    def __init__(self, make, model, year):\n",
    "        self.make = make\n",
    "        self.model = model\n",
    "        self.year = year\n",
    "        self.odometer_reading = 0 # 设置了默认值，形参列表中不需要再包含\n",
    "\n",
    "    def get_descriptive_name(self):\n",
    "        long_name = str(self.year) + ' ' + self.make + ' ' + self.model\n",
    "        return long_name.title()\n",
    "\n",
    "    def read_odometer(self):\n",
    "        print(\"This car has \" + str(self.odometer_reading) + \" miles on it.\")\n",
    "\n",
    "my_new_car = Car('audi', 'a4', 2016)\n",
    "print(my_new_car.get_descriptive_name())\n",
    "my_new_car.read_odometer()"
   ]
  },
  {
   "source": [
    "类中的每个属性都必须有初始值，哪怕这个值时0或空字符串。可选择在`__init__`方法中指定默认值。"
   ],
   "cell_type": "markdown",
   "metadata": {}
  },
  {
   "source": [
    "# 继承\n",
    "创建子类实例时，Python首先需要完成的任务是给父类的所有属性赋值。"
   ],
   "cell_type": "markdown",
   "metadata": {}
  },
  {
   "cell_type": "code",
   "execution_count": 7,
   "metadata": {},
   "outputs": [
    {
     "output_type": "stream",
     "name": "stdout",
     "text": [
      "2016 Telsa Model S\nThis car has a 70-kWh battery.\n"
     ]
    }
   ],
   "source": [
    "# 创建子类时，父类必须包含在当前文件中，且在子类前。\n",
    "class ElectricCar(Car):\n",
    "\n",
    "    def __init__(self, make, model, year):\n",
    "        super().__init__(make, model, year)\n",
    "        self.batttery_size = 70\n",
    "\n",
    "    def describe_battery(self):\n",
    "        print(\"This car has a \" + str(self.batttery_size) + \"-kWh battery.\")\n",
    "\n",
    "my_tesla = ElectricCar('telsa', 'model s', 2016)\n",
    "print(my_tesla.get_descriptive_name())\n",
    "my_tesla.describe_battery()"
   ]
  },
  {
   "source": [
    "重写父类的方法，在子类中定义同名方法。使用时Python将不会再考虑这个父类方法，而只关注你在子类中定义的相应方法。"
   ],
   "cell_type": "markdown",
   "metadata": {}
  },
  {
   "source": [
    "# 导入类\n",
    "将类存储在模块中，在主程序中导入所需的模块。\n",
    "\n",
    "一个模块中也可以存在多个类"
   ],
   "cell_type": "markdown",
   "metadata": {}
  },
  {
   "cell_type": "code",
   "execution_count": 1,
   "metadata": {},
   "outputs": [
    {
     "output_type": "stream",
     "name": "stdout",
     "text": [
      "2016 Audi A4\n"
     ]
    }
   ],
   "source": [
    "from car import Car\n",
    "\n",
    "my_new_car = Car('audi', 'a4', 2016)\n",
    "print(my_new_car.get_descriptive_name())"
   ]
  },
  {
   "source": [
    "## 导入整个模块"
   ],
   "cell_type": "markdown",
   "metadata": {}
  },
  {
   "cell_type": "code",
   "execution_count": 2,
   "metadata": {},
   "outputs": [
    {
     "output_type": "stream",
     "name": "stdout",
     "text": [
      "2016 Audi A4\n"
     ]
    }
   ],
   "source": [
    "import car\n",
    "\n",
    "my_new_car = car.Car('audi', 'a4', 2016) # 使用时通过模块名访问相应的类，因此不会和当前文件使用的任何名称发生冲突\n",
    "print(my_new_car.get_descriptive_name())"
   ]
  },
  {
   "source": [
    "## 导入模块中所有的类\n",
    "\n",
    "`from module_name import *`\n",
    "\n",
    "容易产生名称冲突，不建议使用。"
   ],
   "cell_type": "markdown",
   "metadata": {}
  },
  {
   "cell_type": "code",
   "execution_count": null,
   "metadata": {},
   "outputs": [],
   "source": []
  }
 ]
}